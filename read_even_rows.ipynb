{
 "cells": [
  {
   "cell_type": "code",
   "execution_count": 17,
   "metadata": {},
   "outputs": [],
   "source": [
    "import pandas as pd\n",
    "import csv\n",
    "import os\n",
    "os.chdir(\"C:\\\\Users\\\\Administrator\\\\Documents\")"
   ]
  },
  {
   "cell_type": "code",
   "execution_count": 18,
   "metadata": {},
   "outputs": [
    {
     "name": "stdout",
     "output_type": "stream",
     "text": [
      "['roll', ' name', ' math', ' phy', ' chem', ' bio']\n",
      "['1', ' Deepa', ' 98', ' 67', ' 78', ' 88']\n",
      "['2', ' Anusha', ' 78', ' 89', ' 98', ' 90']\n",
      "['3', ' Piya ', ' 90', ' 89', ' 98', ' 67']\n",
      "['4', ' Manu ', ' 78', ' 90', ' 45', ' 78']\n",
      "['5', ' Roy ', ' 67', ' 90', ' 99', ' 56']\n",
      "['6', ' Tinu ', ' 67', ' 78', ' 89', ' 90']\n",
      "['7', ' Titty ', ' 67', ' 89', ' 59', ' 90']\n",
      "['8', ' Venu ', ' 56', ' 78', ' 98', ' 80']\n",
      "['9', ' Amala ', ' 78', ' 67', ' 56', ' 78']\n",
      "['10', ' Cindy ', ' 90', ' 45', ' 56', ' 89']\n"
     ]
    }
   ],
   "source": [
    "# The Original CSV file\n",
    "with open('report.csv', 'r') as file:\n",
    "    reader = csv.reader(file)\n",
    "    for row in reader:\n",
    "        print(row)"
   ]
  },
  {
   "cell_type": "code",
   "execution_count": 19,
   "metadata": {},
   "outputs": [
    {
     "data": {
      "text/html": [
       "<div>\n",
       "<style scoped>\n",
       "    .dataframe tbody tr th:only-of-type {\n",
       "        vertical-align: middle;\n",
       "    }\n",
       "\n",
       "    .dataframe tbody tr th {\n",
       "        vertical-align: top;\n",
       "    }\n",
       "\n",
       "    .dataframe thead th {\n",
       "        text-align: right;\n",
       "    }\n",
       "</style>\n",
       "<table border=\"1\" class=\"dataframe\">\n",
       "  <thead>\n",
       "    <tr style=\"text-align: right;\">\n",
       "      <th></th>\n",
       "      <th>roll</th>\n",
       "      <th>name</th>\n",
       "      <th>math</th>\n",
       "      <th>phy</th>\n",
       "      <th>chem</th>\n",
       "      <th>bio</th>\n",
       "    </tr>\n",
       "  </thead>\n",
       "  <tbody>\n",
       "    <tr>\n",
       "      <th>0</th>\n",
       "      <td>2</td>\n",
       "      <td>Anusha</td>\n",
       "      <td>78</td>\n",
       "      <td>89</td>\n",
       "      <td>98</td>\n",
       "      <td>90</td>\n",
       "    </tr>\n",
       "    <tr>\n",
       "      <th>1</th>\n",
       "      <td>4</td>\n",
       "      <td>Manu</td>\n",
       "      <td>78</td>\n",
       "      <td>90</td>\n",
       "      <td>45</td>\n",
       "      <td>78</td>\n",
       "    </tr>\n",
       "    <tr>\n",
       "      <th>2</th>\n",
       "      <td>6</td>\n",
       "      <td>Tinu</td>\n",
       "      <td>67</td>\n",
       "      <td>78</td>\n",
       "      <td>89</td>\n",
       "      <td>90</td>\n",
       "    </tr>\n",
       "    <tr>\n",
       "      <th>3</th>\n",
       "      <td>8</td>\n",
       "      <td>Venu</td>\n",
       "      <td>56</td>\n",
       "      <td>78</td>\n",
       "      <td>98</td>\n",
       "      <td>80</td>\n",
       "    </tr>\n",
       "    <tr>\n",
       "      <th>4</th>\n",
       "      <td>10</td>\n",
       "      <td>Cindy</td>\n",
       "      <td>90</td>\n",
       "      <td>45</td>\n",
       "      <td>56</td>\n",
       "      <td>89</td>\n",
       "    </tr>\n",
       "  </tbody>\n",
       "</table>\n",
       "</div>"
      ],
      "text/plain": [
       "   roll     name   math   phy   chem   bio\n",
       "0     2   Anusha     78    89     98    90\n",
       "1     4    Manu      78    90     45    78\n",
       "2     6    Tinu      67    78     89    90\n",
       "3     8    Venu      56    78     98    80\n",
       "4    10   Cindy      90    45     56    89"
      ]
     },
     "execution_count": 19,
     "metadata": {},
     "output_type": "execute_result"
    }
   ],
   "source": [
    "# Read only the even rows\n",
    "pd.read_csv('report.csv', skiprows=lambda x: x % 2)"
   ]
  },
  {
   "cell_type": "code",
   "execution_count": null,
   "metadata": {},
   "outputs": [],
   "source": []
  }
 ],
 "metadata": {
  "kernelspec": {
   "display_name": "Python 3",
   "language": "python",
   "name": "python3"
  },
  "language_info": {
   "codemirror_mode": {
    "name": "ipython",
    "version": 3
   },
   "file_extension": ".py",
   "mimetype": "text/x-python",
   "name": "python",
   "nbconvert_exporter": "python",
   "pygments_lexer": "ipython3",
   "version": "3.7.3"
  }
 },
 "nbformat": 4,
 "nbformat_minor": 4
}
